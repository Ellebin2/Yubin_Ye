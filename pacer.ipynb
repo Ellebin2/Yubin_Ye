{
 "cells": [
  {
   "cell_type": "code",
   "execution_count": 1,
   "metadata": {},
   "outputs": [],
   "source": [
    "import pandas as pd\n",
    "import numpy as np\n",
    "\n",
    "import matplotlib.pyplot as plt\n",
    "import seaborn as sns\n",
    "\n",
    "import warnings\n",
    "warnings.filterwarnings('ignore')"
   ]
  },
  {
   "cell_type": "code",
   "execution_count": 2,
   "metadata": {},
   "outputs": [],
   "source": [
    "df=pd.read_csv('/Users/yubinye/Downloads/Sample Data_Sales.csv')"
   ]
  },
  {
   "cell_type": "code",
   "execution_count": 3,
   "metadata": {},
   "outputs": [
    {
     "name": "stdout",
     "output_type": "stream",
     "text": [
      "<class 'pandas.core.frame.DataFrame'>\n",
      "RangeIndex: 1020 entries, 0 to 1019\n",
      "Data columns (total 6 columns):\n",
      " #   Column                        Non-Null Count  Dtype \n",
      "---  ------                        --------------  ----- \n",
      " 0   Opportunity ID                1020 non-null   object\n",
      " 1   Market Segment                1020 non-null   object\n",
      " 2   Close Date                    1020 non-null   object\n",
      " 3   Stage                         1020 non-null   object\n",
      " 4   First Meeting Contact: Title  1020 non-null   object\n",
      " 5   Lead Source                   1012 non-null   object\n",
      "dtypes: object(6)\n",
      "memory usage: 47.9+ KB\n"
     ]
    }
   ],
   "source": [
    "df.info()"
   ]
  },
  {
   "cell_type": "code",
   "execution_count": 4,
   "metadata": {},
   "outputs": [
    {
     "data": {
      "text/html": [
       "<div>\n",
       "<style scoped>\n",
       "    .dataframe tbody tr th:only-of-type {\n",
       "        vertical-align: middle;\n",
       "    }\n",
       "\n",
       "    .dataframe tbody tr th {\n",
       "        vertical-align: top;\n",
       "    }\n",
       "\n",
       "    .dataframe thead th {\n",
       "        text-align: right;\n",
       "    }\n",
       "</style>\n",
       "<table border=\"1\" class=\"dataframe\">\n",
       "  <thead>\n",
       "    <tr style=\"text-align: right;\">\n",
       "      <th></th>\n",
       "      <th>Opportunity ID</th>\n",
       "      <th>Market Segment</th>\n",
       "      <th>Close Date</th>\n",
       "      <th>Stage</th>\n",
       "      <th>First Meeting Contact: Title</th>\n",
       "      <th>Lead Source</th>\n",
       "    </tr>\n",
       "  </thead>\n",
       "  <tbody>\n",
       "    <tr>\n",
       "      <th>0</th>\n",
       "      <td>0063l00000k3qAX</td>\n",
       "      <td>MM</td>\n",
       "      <td>12/17/20</td>\n",
       "      <td>8 - Closed Lost</td>\n",
       "      <td>Tech Recruiter</td>\n",
       "      <td>Offline Sources</td>\n",
       "    </tr>\n",
       "    <tr>\n",
       "      <th>1</th>\n",
       "      <td>0063l00000hbTDr</td>\n",
       "      <td>MM</td>\n",
       "      <td>3/28/20</td>\n",
       "      <td>8 - Closed Lost</td>\n",
       "      <td>Director, Talent</td>\n",
       "      <td>Offline Sources</td>\n",
       "    </tr>\n",
       "    <tr>\n",
       "      <th>2</th>\n",
       "      <td>0061N00000dLl4v</td>\n",
       "      <td>ENT</td>\n",
       "      <td>1/30/20</td>\n",
       "      <td>8 - Closed Won</td>\n",
       "      <td>Sourcing Strategist</td>\n",
       "      <td>KlientBoost</td>\n",
       "    </tr>\n",
       "    <tr>\n",
       "      <th>3</th>\n",
       "      <td>0061N00000gYcpX</td>\n",
       "      <td>ENT</td>\n",
       "      <td>1/14/20</td>\n",
       "      <td>8 - Closed Lost</td>\n",
       "      <td>Talent Acquistion CoE, Strategic Initiatives A...</td>\n",
       "      <td>Trade Show</td>\n",
       "    </tr>\n",
       "    <tr>\n",
       "      <th>4</th>\n",
       "      <td>0063l00000ilgAx</td>\n",
       "      <td>ENT</td>\n",
       "      <td>12/30/20</td>\n",
       "      <td>8 - Closed Won</td>\n",
       "      <td>Manager, Talent Partnerships</td>\n",
       "      <td>Paid Search</td>\n",
       "    </tr>\n",
       "  </tbody>\n",
       "</table>\n",
       "</div>"
      ],
      "text/plain": [
       "    Opportunity ID Market Segment Close Date            Stage  \\\n",
       "0  0063l00000k3qAX             MM   12/17/20  8 - Closed Lost   \n",
       "1  0063l00000hbTDr             MM    3/28/20  8 - Closed Lost   \n",
       "2  0061N00000dLl4v            ENT    1/30/20   8 - Closed Won   \n",
       "3  0061N00000gYcpX            ENT    1/14/20  8 - Closed Lost   \n",
       "4  0063l00000ilgAx            ENT   12/30/20   8 - Closed Won   \n",
       "\n",
       "                        First Meeting Contact: Title      Lead Source  \n",
       "0                                     Tech Recruiter  Offline Sources  \n",
       "1                                   Director, Talent  Offline Sources  \n",
       "2                                Sourcing Strategist      KlientBoost  \n",
       "3  Talent Acquistion CoE, Strategic Initiatives A...       Trade Show  \n",
       "4                       Manager, Talent Partnerships      Paid Search  "
      ]
     },
     "execution_count": 4,
     "metadata": {},
     "output_type": "execute_result"
    }
   ],
   "source": [
    "df.head()"
   ]
  },
  {
   "cell_type": "code",
   "execution_count": 5,
   "metadata": {},
   "outputs": [],
   "source": [
    "df.to_excel ('/Users/yubinye/Downloads/Sample Data_Sales.csv.xlsx', index = None, header=True)"
   ]
  },
  {
   "cell_type": "code",
   "execution_count": null,
   "metadata": {},
   "outputs": [],
   "source": []
  },
  {
   "cell_type": "code",
   "execution_count": null,
   "metadata": {},
   "outputs": [],
   "source": []
  },
  {
   "cell_type": "code",
   "execution_count": null,
   "metadata": {},
   "outputs": [],
   "source": []
  },
  {
   "cell_type": "markdown",
   "metadata": {},
   "source": [
    "# Question 1: Summarize the Data\n",
    "Calculate the following metrics for the user cohort*\n",
    "1) Number of new ​installs​ per day\n",
    "\n",
    "2) Return rate​ for day 1, day 7, day 14, day 28, day 35 and day 42\n",
    "\n",
    "3) Purchase conversion rate​: Percentage (%) of new installs who made at least one\n",
    "purchase of our in-app subscription service\n",
    "\n",
    "4) Cohort ​ARPD"
   ]
  },
  {
   "cell_type": "markdown",
   "metadata": {},
   "source": [
    "### (1) Number of new installs per day"
   ]
  },
  {
   "cell_type": "code",
   "execution_count": 3,
   "metadata": {},
   "outputs": [],
   "source": [
    "session[\"session_timestamp\"] = pd.to_datetime(session.session_timestamp)\n",
    "session['date'] = session[\"session_timestamp\"].dt.date"
   ]
  },
  {
   "cell_type": "code",
   "execution_count": 4,
   "metadata": {},
   "outputs": [],
   "source": [
    "date_user = session.groupby(['device_id','date']).first()\n",
    "active = pd.DataFrame(list(date_user.index),columns = ['device_id','date'])"
   ]
  },
  {
   "cell_type": "code",
   "execution_count": 5,
   "metadata": {},
   "outputs": [],
   "source": [
    "# get the first date of each unique id\n",
    "cohort = active.drop_duplicates(subset=['device_id'])"
   ]
  },
  {
   "cell_type": "markdown",
   "metadata": {},
   "source": [
    "### (2) Return rate for day 1, day 7, day 14, day 28, day 35 and day 42"
   ]
  },
  {
   "cell_type": "code",
   "execution_count": 6,
   "metadata": {},
   "outputs": [],
   "source": [
    "import datetime\n",
    "delta = [1,7,14,28,35,42]\n",
    "for i in delta:\n",
    "    days = datetime.timedelta(i)\n",
    "    cohort['day{}'.format(i)] = cohort['date'] + days"
   ]
  },
  {
   "cell_type": "code",
   "execution_count": 7,
   "metadata": {},
   "outputs": [
    {
     "name": "stdout",
     "output_type": "stream",
     "text": [
      "<class 'pandas.core.frame.DataFrame'>\n",
      "Int64Index: 53600 entries, 0 to 530203\n",
      "Data columns (total 8 columns):\n",
      " #   Column     Non-Null Count  Dtype \n",
      "---  ------     --------------  ----- \n",
      " 0   device_id  53600 non-null  object\n",
      " 1   date       53600 non-null  object\n",
      " 2   day1       53600 non-null  object\n",
      " 3   day7       53600 non-null  object\n",
      " 4   day14      53600 non-null  object\n",
      " 5   day28      53600 non-null  object\n",
      " 6   day35      53600 non-null  object\n",
      " 7   day42      53600 non-null  object\n",
      "dtypes: object(8)\n",
      "memory usage: 3.7+ MB\n"
     ]
    }
   ],
   "source": [
    "cohort.info()"
   ]
  },
  {
   "cell_type": "code",
   "execution_count": 8,
   "metadata": {},
   "outputs": [
    {
     "name": "stdout",
     "output_type": "stream",
     "text": [
      "<class 'pandas.core.frame.DataFrame'>\n",
      "RangeIndex: 530205 entries, 0 to 530204\n",
      "Data columns (total 2 columns):\n",
      " #   Column     Non-Null Count   Dtype \n",
      "---  ------     --------------   ----- \n",
      " 0   device_id  530205 non-null  object\n",
      " 1   date       530205 non-null  object\n",
      "dtypes: object(2)\n",
      "memory usage: 8.1+ MB\n"
     ]
    }
   ],
   "source": [
    "active.info()"
   ]
  },
  {
   "cell_type": "code",
   "execution_count": 9,
   "metadata": {},
   "outputs": [
    {
     "data": {
      "text/html": [
       "<div>\n",
       "<style scoped>\n",
       "    .dataframe tbody tr th:only-of-type {\n",
       "        vertical-align: middle;\n",
       "    }\n",
       "\n",
       "    .dataframe tbody tr th {\n",
       "        vertical-align: top;\n",
       "    }\n",
       "\n",
       "    .dataframe thead th {\n",
       "        text-align: right;\n",
       "    }\n",
       "</style>\n",
       "<table border=\"1\" class=\"dataframe\">\n",
       "  <thead>\n",
       "    <tr style=\"text-align: right;\">\n",
       "      <th></th>\n",
       "      <th>device_id</th>\n",
       "      <th>date</th>\n",
       "      <th>day1</th>\n",
       "      <th>day7</th>\n",
       "      <th>day14</th>\n",
       "      <th>day28</th>\n",
       "      <th>day35</th>\n",
       "      <th>day42</th>\n",
       "    </tr>\n",
       "  </thead>\n",
       "  <tbody>\n",
       "    <tr>\n",
       "      <th>0</th>\n",
       "      <td>0000535c2f5fbd97aac16881104b5c60</td>\n",
       "      <td>2020-04-10</td>\n",
       "      <td>2020-04-11</td>\n",
       "      <td>2020-04-17</td>\n",
       "      <td>2020-04-24</td>\n",
       "      <td>2020-05-08</td>\n",
       "      <td>2020-05-15</td>\n",
       "      <td>2020-05-22</td>\n",
       "    </tr>\n",
       "    <tr>\n",
       "      <th>11</th>\n",
       "      <td>00019e060c8bea93601dbc690ccfe11d</td>\n",
       "      <td>2020-04-15</td>\n",
       "      <td>2020-04-16</td>\n",
       "      <td>2020-04-22</td>\n",
       "      <td>2020-04-29</td>\n",
       "      <td>2020-05-13</td>\n",
       "      <td>2020-05-20</td>\n",
       "      <td>2020-05-27</td>\n",
       "    </tr>\n",
       "    <tr>\n",
       "      <th>12</th>\n",
       "      <td>00037a65212efa30a049ee96996c9eb5</td>\n",
       "      <td>2020-04-15</td>\n",
       "      <td>2020-04-16</td>\n",
       "      <td>2020-04-22</td>\n",
       "      <td>2020-04-29</td>\n",
       "      <td>2020-05-13</td>\n",
       "      <td>2020-05-20</td>\n",
       "      <td>2020-05-27</td>\n",
       "    </tr>\n",
       "    <tr>\n",
       "      <th>13</th>\n",
       "      <td>0004af620e3cb6e3e0f13316cb23956e</td>\n",
       "      <td>2020-04-17</td>\n",
       "      <td>2020-04-18</td>\n",
       "      <td>2020-04-24</td>\n",
       "      <td>2020-05-01</td>\n",
       "      <td>2020-05-15</td>\n",
       "      <td>2020-05-22</td>\n",
       "      <td>2020-05-29</td>\n",
       "    </tr>\n",
       "    <tr>\n",
       "      <th>15</th>\n",
       "      <td>000540c74b5ca8f56ee26247966dec51</td>\n",
       "      <td>2020-04-11</td>\n",
       "      <td>2020-04-12</td>\n",
       "      <td>2020-04-18</td>\n",
       "      <td>2020-04-25</td>\n",
       "      <td>2020-05-09</td>\n",
       "      <td>2020-05-16</td>\n",
       "      <td>2020-05-23</td>\n",
       "    </tr>\n",
       "  </tbody>\n",
       "</table>\n",
       "</div>"
      ],
      "text/plain": [
       "                           device_id        date        day1        day7  \\\n",
       "0   0000535c2f5fbd97aac16881104b5c60  2020-04-10  2020-04-11  2020-04-17   \n",
       "11  00019e060c8bea93601dbc690ccfe11d  2020-04-15  2020-04-16  2020-04-22   \n",
       "12  00037a65212efa30a049ee96996c9eb5  2020-04-15  2020-04-16  2020-04-22   \n",
       "13  0004af620e3cb6e3e0f13316cb23956e  2020-04-17  2020-04-18  2020-04-24   \n",
       "15  000540c74b5ca8f56ee26247966dec51  2020-04-11  2020-04-12  2020-04-18   \n",
       "\n",
       "         day14       day28       day35       day42  \n",
       "0   2020-04-24  2020-05-08  2020-05-15  2020-05-22  \n",
       "11  2020-04-29  2020-05-13  2020-05-20  2020-05-27  \n",
       "12  2020-04-29  2020-05-13  2020-05-20  2020-05-27  \n",
       "13  2020-05-01  2020-05-15  2020-05-22  2020-05-29  \n",
       "15  2020-04-25  2020-05-09  2020-05-16  2020-05-23  "
      ]
     },
     "execution_count": 9,
     "metadata": {},
     "output_type": "execute_result"
    }
   ],
   "source": [
    "cohort.head()"
   ]
  },
  {
   "cell_type": "code",
   "execution_count": 10,
   "metadata": {},
   "outputs": [
    {
     "data": {
      "text/html": [
       "<div>\n",
       "<style scoped>\n",
       "    .dataframe tbody tr th:only-of-type {\n",
       "        vertical-align: middle;\n",
       "    }\n",
       "\n",
       "    .dataframe tbody tr th {\n",
       "        vertical-align: top;\n",
       "    }\n",
       "\n",
       "    .dataframe thead th {\n",
       "        text-align: right;\n",
       "    }\n",
       "</style>\n",
       "<table border=\"1\" class=\"dataframe\">\n",
       "  <thead>\n",
       "    <tr style=\"text-align: right;\">\n",
       "      <th></th>\n",
       "      <th>device_id</th>\n",
       "      <th>date</th>\n",
       "    </tr>\n",
       "  </thead>\n",
       "  <tbody>\n",
       "    <tr>\n",
       "      <th>0</th>\n",
       "      <td>0000535c2f5fbd97aac16881104b5c60</td>\n",
       "      <td>2020-04-10</td>\n",
       "    </tr>\n",
       "    <tr>\n",
       "      <th>1</th>\n",
       "      <td>0000535c2f5fbd97aac16881104b5c60</td>\n",
       "      <td>2020-05-11</td>\n",
       "    </tr>\n",
       "    <tr>\n",
       "      <th>2</th>\n",
       "      <td>0000535c2f5fbd97aac16881104b5c60</td>\n",
       "      <td>2020-05-12</td>\n",
       "    </tr>\n",
       "    <tr>\n",
       "      <th>3</th>\n",
       "      <td>0000535c2f5fbd97aac16881104b5c60</td>\n",
       "      <td>2020-05-15</td>\n",
       "    </tr>\n",
       "    <tr>\n",
       "      <th>4</th>\n",
       "      <td>0000535c2f5fbd97aac16881104b5c60</td>\n",
       "      <td>2020-05-17</td>\n",
       "    </tr>\n",
       "  </tbody>\n",
       "</table>\n",
       "</div>"
      ],
      "text/plain": [
       "                          device_id        date\n",
       "0  0000535c2f5fbd97aac16881104b5c60  2020-04-10\n",
       "1  0000535c2f5fbd97aac16881104b5c60  2020-05-11\n",
       "2  0000535c2f5fbd97aac16881104b5c60  2020-05-12\n",
       "3  0000535c2f5fbd97aac16881104b5c60  2020-05-15\n",
       "4  0000535c2f5fbd97aac16881104b5c60  2020-05-17"
      ]
     },
     "execution_count": 10,
     "metadata": {},
     "output_type": "execute_result"
    }
   ],
   "source": [
    "active.head()"
   ]
  },
  {
   "cell_type": "code",
   "execution_count": 11,
   "metadata": {},
   "outputs": [
    {
     "name": "stdout",
     "output_type": "stream",
     "text": [
      "<class 'pandas.core.frame.DataFrame'>\n",
      "Int64Index: 530205 entries, 0 to 530204\n",
      "Data columns (total 9 columns):\n",
      " #   Column     Non-Null Count   Dtype \n",
      "---  ------     --------------   ----- \n",
      " 0   device_id  530205 non-null  object\n",
      " 1   date_x     530205 non-null  object\n",
      " 2   date_y     530205 non-null  object\n",
      " 3   day1       530205 non-null  object\n",
      " 4   day7       530205 non-null  object\n",
      " 5   day14      530205 non-null  object\n",
      " 6   day28      530205 non-null  object\n",
      " 7   day35      530205 non-null  object\n",
      " 8   day42      530205 non-null  object\n",
      "dtypes: object(9)\n",
      "memory usage: 40.5+ MB\n"
     ]
    }
   ],
   "source": [
    "df = pd.merge(active,cohort,on=[\"device_id\"])\n",
    "df.info()"
   ]
  },
  {
   "cell_type": "code",
   "execution_count": 12,
   "metadata": {},
   "outputs": [
    {
     "data": {
      "text/html": [
       "<div>\n",
       "<style scoped>\n",
       "    .dataframe tbody tr th:only-of-type {\n",
       "        vertical-align: middle;\n",
       "    }\n",
       "\n",
       "    .dataframe tbody tr th {\n",
       "        vertical-align: top;\n",
       "    }\n",
       "\n",
       "    .dataframe thead th {\n",
       "        text-align: right;\n",
       "    }\n",
       "</style>\n",
       "<table border=\"1\" class=\"dataframe\">\n",
       "  <thead>\n",
       "    <tr style=\"text-align: right;\">\n",
       "      <th></th>\n",
       "      <th>device_id</th>\n",
       "      <th>date_x</th>\n",
       "      <th>date_y</th>\n",
       "      <th>day1</th>\n",
       "      <th>day7</th>\n",
       "      <th>day14</th>\n",
       "      <th>day28</th>\n",
       "      <th>day35</th>\n",
       "      <th>day42</th>\n",
       "    </tr>\n",
       "  </thead>\n",
       "  <tbody>\n",
       "    <tr>\n",
       "      <th>0</th>\n",
       "      <td>0000535c2f5fbd97aac16881104b5c60</td>\n",
       "      <td>2020-04-10</td>\n",
       "      <td>2020-04-10</td>\n",
       "      <td>2020-04-11</td>\n",
       "      <td>2020-04-17</td>\n",
       "      <td>2020-04-24</td>\n",
       "      <td>2020-05-08</td>\n",
       "      <td>2020-05-15</td>\n",
       "      <td>2020-05-22</td>\n",
       "    </tr>\n",
       "    <tr>\n",
       "      <th>1</th>\n",
       "      <td>0000535c2f5fbd97aac16881104b5c60</td>\n",
       "      <td>2020-05-11</td>\n",
       "      <td>2020-04-10</td>\n",
       "      <td>2020-04-11</td>\n",
       "      <td>2020-04-17</td>\n",
       "      <td>2020-04-24</td>\n",
       "      <td>2020-05-08</td>\n",
       "      <td>2020-05-15</td>\n",
       "      <td>2020-05-22</td>\n",
       "    </tr>\n",
       "    <tr>\n",
       "      <th>2</th>\n",
       "      <td>0000535c2f5fbd97aac16881104b5c60</td>\n",
       "      <td>2020-05-12</td>\n",
       "      <td>2020-04-10</td>\n",
       "      <td>2020-04-11</td>\n",
       "      <td>2020-04-17</td>\n",
       "      <td>2020-04-24</td>\n",
       "      <td>2020-05-08</td>\n",
       "      <td>2020-05-15</td>\n",
       "      <td>2020-05-22</td>\n",
       "    </tr>\n",
       "    <tr>\n",
       "      <th>3</th>\n",
       "      <td>0000535c2f5fbd97aac16881104b5c60</td>\n",
       "      <td>2020-05-15</td>\n",
       "      <td>2020-04-10</td>\n",
       "      <td>2020-04-11</td>\n",
       "      <td>2020-04-17</td>\n",
       "      <td>2020-04-24</td>\n",
       "      <td>2020-05-08</td>\n",
       "      <td>2020-05-15</td>\n",
       "      <td>2020-05-22</td>\n",
       "    </tr>\n",
       "    <tr>\n",
       "      <th>4</th>\n",
       "      <td>0000535c2f5fbd97aac16881104b5c60</td>\n",
       "      <td>2020-05-17</td>\n",
       "      <td>2020-04-10</td>\n",
       "      <td>2020-04-11</td>\n",
       "      <td>2020-04-17</td>\n",
       "      <td>2020-04-24</td>\n",
       "      <td>2020-05-08</td>\n",
       "      <td>2020-05-15</td>\n",
       "      <td>2020-05-22</td>\n",
       "    </tr>\n",
       "    <tr>\n",
       "      <th>5</th>\n",
       "      <td>0000535c2f5fbd97aac16881104b5c60</td>\n",
       "      <td>2020-05-26</td>\n",
       "      <td>2020-04-10</td>\n",
       "      <td>2020-04-11</td>\n",
       "      <td>2020-04-17</td>\n",
       "      <td>2020-04-24</td>\n",
       "      <td>2020-05-08</td>\n",
       "      <td>2020-05-15</td>\n",
       "      <td>2020-05-22</td>\n",
       "    </tr>\n",
       "    <tr>\n",
       "      <th>6</th>\n",
       "      <td>0000535c2f5fbd97aac16881104b5c60</td>\n",
       "      <td>2020-05-27</td>\n",
       "      <td>2020-04-10</td>\n",
       "      <td>2020-04-11</td>\n",
       "      <td>2020-04-17</td>\n",
       "      <td>2020-04-24</td>\n",
       "      <td>2020-05-08</td>\n",
       "      <td>2020-05-15</td>\n",
       "      <td>2020-05-22</td>\n",
       "    </tr>\n",
       "    <tr>\n",
       "      <th>7</th>\n",
       "      <td>0000535c2f5fbd97aac16881104b5c60</td>\n",
       "      <td>2020-06-08</td>\n",
       "      <td>2020-04-10</td>\n",
       "      <td>2020-04-11</td>\n",
       "      <td>2020-04-17</td>\n",
       "      <td>2020-04-24</td>\n",
       "      <td>2020-05-08</td>\n",
       "      <td>2020-05-15</td>\n",
       "      <td>2020-05-22</td>\n",
       "    </tr>\n",
       "    <tr>\n",
       "      <th>8</th>\n",
       "      <td>0000535c2f5fbd97aac16881104b5c60</td>\n",
       "      <td>2020-06-09</td>\n",
       "      <td>2020-04-10</td>\n",
       "      <td>2020-04-11</td>\n",
       "      <td>2020-04-17</td>\n",
       "      <td>2020-04-24</td>\n",
       "      <td>2020-05-08</td>\n",
       "      <td>2020-05-15</td>\n",
       "      <td>2020-05-22</td>\n",
       "    </tr>\n",
       "    <tr>\n",
       "      <th>9</th>\n",
       "      <td>0000535c2f5fbd97aac16881104b5c60</td>\n",
       "      <td>2020-06-11</td>\n",
       "      <td>2020-04-10</td>\n",
       "      <td>2020-04-11</td>\n",
       "      <td>2020-04-17</td>\n",
       "      <td>2020-04-24</td>\n",
       "      <td>2020-05-08</td>\n",
       "      <td>2020-05-15</td>\n",
       "      <td>2020-05-22</td>\n",
       "    </tr>\n",
       "    <tr>\n",
       "      <th>10</th>\n",
       "      <td>0000535c2f5fbd97aac16881104b5c60</td>\n",
       "      <td>2020-06-13</td>\n",
       "      <td>2020-04-10</td>\n",
       "      <td>2020-04-11</td>\n",
       "      <td>2020-04-17</td>\n",
       "      <td>2020-04-24</td>\n",
       "      <td>2020-05-08</td>\n",
       "      <td>2020-05-15</td>\n",
       "      <td>2020-05-22</td>\n",
       "    </tr>\n",
       "    <tr>\n",
       "      <th>11</th>\n",
       "      <td>00019e060c8bea93601dbc690ccfe11d</td>\n",
       "      <td>2020-04-15</td>\n",
       "      <td>2020-04-15</td>\n",
       "      <td>2020-04-16</td>\n",
       "      <td>2020-04-22</td>\n",
       "      <td>2020-04-29</td>\n",
       "      <td>2020-05-13</td>\n",
       "      <td>2020-05-20</td>\n",
       "      <td>2020-05-27</td>\n",
       "    </tr>\n",
       "    <tr>\n",
       "      <th>12</th>\n",
       "      <td>00037a65212efa30a049ee96996c9eb5</td>\n",
       "      <td>2020-04-15</td>\n",
       "      <td>2020-04-15</td>\n",
       "      <td>2020-04-16</td>\n",
       "      <td>2020-04-22</td>\n",
       "      <td>2020-04-29</td>\n",
       "      <td>2020-05-13</td>\n",
       "      <td>2020-05-20</td>\n",
       "      <td>2020-05-27</td>\n",
       "    </tr>\n",
       "    <tr>\n",
       "      <th>13</th>\n",
       "      <td>0004af620e3cb6e3e0f13316cb23956e</td>\n",
       "      <td>2020-04-17</td>\n",
       "      <td>2020-04-17</td>\n",
       "      <td>2020-04-18</td>\n",
       "      <td>2020-04-24</td>\n",
       "      <td>2020-05-01</td>\n",
       "      <td>2020-05-15</td>\n",
       "      <td>2020-05-22</td>\n",
       "      <td>2020-05-29</td>\n",
       "    </tr>\n",
       "    <tr>\n",
       "      <th>14</th>\n",
       "      <td>0004af620e3cb6e3e0f13316cb23956e</td>\n",
       "      <td>2020-05-16</td>\n",
       "      <td>2020-04-17</td>\n",
       "      <td>2020-04-18</td>\n",
       "      <td>2020-04-24</td>\n",
       "      <td>2020-05-01</td>\n",
       "      <td>2020-05-15</td>\n",
       "      <td>2020-05-22</td>\n",
       "      <td>2020-05-29</td>\n",
       "    </tr>\n",
       "    <tr>\n",
       "      <th>15</th>\n",
       "      <td>000540c74b5ca8f56ee26247966dec51</td>\n",
       "      <td>2020-04-11</td>\n",
       "      <td>2020-04-11</td>\n",
       "      <td>2020-04-12</td>\n",
       "      <td>2020-04-18</td>\n",
       "      <td>2020-04-25</td>\n",
       "      <td>2020-05-09</td>\n",
       "      <td>2020-05-16</td>\n",
       "      <td>2020-05-23</td>\n",
       "    </tr>\n",
       "    <tr>\n",
       "      <th>16</th>\n",
       "      <td>000540c74b5ca8f56ee26247966dec51</td>\n",
       "      <td>2020-04-12</td>\n",
       "      <td>2020-04-11</td>\n",
       "      <td>2020-04-12</td>\n",
       "      <td>2020-04-18</td>\n",
       "      <td>2020-04-25</td>\n",
       "      <td>2020-05-09</td>\n",
       "      <td>2020-05-16</td>\n",
       "      <td>2020-05-23</td>\n",
       "    </tr>\n",
       "    <tr>\n",
       "      <th>17</th>\n",
       "      <td>000540c74b5ca8f56ee26247966dec51</td>\n",
       "      <td>2020-04-13</td>\n",
       "      <td>2020-04-11</td>\n",
       "      <td>2020-04-12</td>\n",
       "      <td>2020-04-18</td>\n",
       "      <td>2020-04-25</td>\n",
       "      <td>2020-05-09</td>\n",
       "      <td>2020-05-16</td>\n",
       "      <td>2020-05-23</td>\n",
       "    </tr>\n",
       "    <tr>\n",
       "      <th>18</th>\n",
       "      <td>000540c74b5ca8f56ee26247966dec51</td>\n",
       "      <td>2020-04-14</td>\n",
       "      <td>2020-04-11</td>\n",
       "      <td>2020-04-12</td>\n",
       "      <td>2020-04-18</td>\n",
       "      <td>2020-04-25</td>\n",
       "      <td>2020-05-09</td>\n",
       "      <td>2020-05-16</td>\n",
       "      <td>2020-05-23</td>\n",
       "    </tr>\n",
       "    <tr>\n",
       "      <th>19</th>\n",
       "      <td>000540c74b5ca8f56ee26247966dec51</td>\n",
       "      <td>2020-04-15</td>\n",
       "      <td>2020-04-11</td>\n",
       "      <td>2020-04-12</td>\n",
       "      <td>2020-04-18</td>\n",
       "      <td>2020-04-25</td>\n",
       "      <td>2020-05-09</td>\n",
       "      <td>2020-05-16</td>\n",
       "      <td>2020-05-23</td>\n",
       "    </tr>\n",
       "  </tbody>\n",
       "</table>\n",
       "</div>"
      ],
      "text/plain": [
       "                           device_id      date_x      date_y        day1  \\\n",
       "0   0000535c2f5fbd97aac16881104b5c60  2020-04-10  2020-04-10  2020-04-11   \n",
       "1   0000535c2f5fbd97aac16881104b5c60  2020-05-11  2020-04-10  2020-04-11   \n",
       "2   0000535c2f5fbd97aac16881104b5c60  2020-05-12  2020-04-10  2020-04-11   \n",
       "3   0000535c2f5fbd97aac16881104b5c60  2020-05-15  2020-04-10  2020-04-11   \n",
       "4   0000535c2f5fbd97aac16881104b5c60  2020-05-17  2020-04-10  2020-04-11   \n",
       "5   0000535c2f5fbd97aac16881104b5c60  2020-05-26  2020-04-10  2020-04-11   \n",
       "6   0000535c2f5fbd97aac16881104b5c60  2020-05-27  2020-04-10  2020-04-11   \n",
       "7   0000535c2f5fbd97aac16881104b5c60  2020-06-08  2020-04-10  2020-04-11   \n",
       "8   0000535c2f5fbd97aac16881104b5c60  2020-06-09  2020-04-10  2020-04-11   \n",
       "9   0000535c2f5fbd97aac16881104b5c60  2020-06-11  2020-04-10  2020-04-11   \n",
       "10  0000535c2f5fbd97aac16881104b5c60  2020-06-13  2020-04-10  2020-04-11   \n",
       "11  00019e060c8bea93601dbc690ccfe11d  2020-04-15  2020-04-15  2020-04-16   \n",
       "12  00037a65212efa30a049ee96996c9eb5  2020-04-15  2020-04-15  2020-04-16   \n",
       "13  0004af620e3cb6e3e0f13316cb23956e  2020-04-17  2020-04-17  2020-04-18   \n",
       "14  0004af620e3cb6e3e0f13316cb23956e  2020-05-16  2020-04-17  2020-04-18   \n",
       "15  000540c74b5ca8f56ee26247966dec51  2020-04-11  2020-04-11  2020-04-12   \n",
       "16  000540c74b5ca8f56ee26247966dec51  2020-04-12  2020-04-11  2020-04-12   \n",
       "17  000540c74b5ca8f56ee26247966dec51  2020-04-13  2020-04-11  2020-04-12   \n",
       "18  000540c74b5ca8f56ee26247966dec51  2020-04-14  2020-04-11  2020-04-12   \n",
       "19  000540c74b5ca8f56ee26247966dec51  2020-04-15  2020-04-11  2020-04-12   \n",
       "\n",
       "          day7       day14       day28       day35       day42  \n",
       "0   2020-04-17  2020-04-24  2020-05-08  2020-05-15  2020-05-22  \n",
       "1   2020-04-17  2020-04-24  2020-05-08  2020-05-15  2020-05-22  \n",
       "2   2020-04-17  2020-04-24  2020-05-08  2020-05-15  2020-05-22  \n",
       "3   2020-04-17  2020-04-24  2020-05-08  2020-05-15  2020-05-22  \n",
       "4   2020-04-17  2020-04-24  2020-05-08  2020-05-15  2020-05-22  \n",
       "5   2020-04-17  2020-04-24  2020-05-08  2020-05-15  2020-05-22  \n",
       "6   2020-04-17  2020-04-24  2020-05-08  2020-05-15  2020-05-22  \n",
       "7   2020-04-17  2020-04-24  2020-05-08  2020-05-15  2020-05-22  \n",
       "8   2020-04-17  2020-04-24  2020-05-08  2020-05-15  2020-05-22  \n",
       "9   2020-04-17  2020-04-24  2020-05-08  2020-05-15  2020-05-22  \n",
       "10  2020-04-17  2020-04-24  2020-05-08  2020-05-15  2020-05-22  \n",
       "11  2020-04-22  2020-04-29  2020-05-13  2020-05-20  2020-05-27  \n",
       "12  2020-04-22  2020-04-29  2020-05-13  2020-05-20  2020-05-27  \n",
       "13  2020-04-24  2020-05-01  2020-05-15  2020-05-22  2020-05-29  \n",
       "14  2020-04-24  2020-05-01  2020-05-15  2020-05-22  2020-05-29  \n",
       "15  2020-04-18  2020-04-25  2020-05-09  2020-05-16  2020-05-23  \n",
       "16  2020-04-18  2020-04-25  2020-05-09  2020-05-16  2020-05-23  \n",
       "17  2020-04-18  2020-04-25  2020-05-09  2020-05-16  2020-05-23  \n",
       "18  2020-04-18  2020-04-25  2020-05-09  2020-05-16  2020-05-23  \n",
       "19  2020-04-18  2020-04-25  2020-05-09  2020-05-16  2020-05-23  "
      ]
     },
     "execution_count": 12,
     "metadata": {},
     "output_type": "execute_result"
    }
   ],
   "source": [
    "df.head(20)"
   ]
  },
  {
   "cell_type": "markdown",
   "metadata": {},
   "source": [
    "> the idea is that calculating the exact date for each new installer after 1,7,14,28,35,42 day\n",
    "\n",
    "> and compare them with all sessions, if true, it means that users opened app at that date. \n",
    "\n",
    "> then calculate the sum of true, we can got the return rate"
   ]
  },
  {
   "cell_type": "code",
   "execution_count": 13,
   "metadata": {},
   "outputs": [],
   "source": [
    "def count_true(lst):\n",
    "    return sum(bool(x) for x in lst)\n",
    "\n",
    "def return_rate_show(df):\n",
    "    day0 = count_true(list(df.date_x == df.date_y))\n",
    "    r_day1 = count_true(list(df.date_x == df.day1))/day0\n",
    "    r_day7 = count_true(list(df.date_x == df.day7))/day0\n",
    "    r_day14 = count_true(list(df.date_x == df.day14))/day0\n",
    "    r_day28 = count_true(list(df.date_x == df.day28))/day0\n",
    "    r_day35 = count_true(list(df.date_x == df.day35))/day0\n",
    "    r_day42 = count_true(list(df.date_x == df.day42))/day0\n",
    "    \n",
    "    dt = pd.DataFrame([r_day1,r_day7,r_day14,r_day28,r_day35,r_day42],\n",
    "                     columns = ['return_rate'])\n",
    "    dt['days'] = ['r_day1','r_day7','r_day14','r_day28','r_day35','r_day42']\n",
    "    return dt"
   ]
  },
  {
   "cell_type": "code",
   "execution_count": 14,
   "metadata": {},
   "outputs": [
    {
     "data": {
      "text/html": [
       "<div>\n",
       "<style scoped>\n",
       "    .dataframe tbody tr th:only-of-type {\n",
       "        vertical-align: middle;\n",
       "    }\n",
       "\n",
       "    .dataframe tbody tr th {\n",
       "        vertical-align: top;\n",
       "    }\n",
       "\n",
       "    .dataframe thead th {\n",
       "        text-align: right;\n",
       "    }\n",
       "</style>\n",
       "<table border=\"1\" class=\"dataframe\">\n",
       "  <thead>\n",
       "    <tr style=\"text-align: right;\">\n",
       "      <th></th>\n",
       "      <th>return_rate</th>\n",
       "      <th>days</th>\n",
       "    </tr>\n",
       "  </thead>\n",
       "  <tbody>\n",
       "    <tr>\n",
       "      <th>0</th>\n",
       "      <td>0.425616</td>\n",
       "      <td>r_day1</td>\n",
       "    </tr>\n",
       "    <tr>\n",
       "      <th>1</th>\n",
       "      <td>0.233862</td>\n",
       "      <td>r_day7</td>\n",
       "    </tr>\n",
       "    <tr>\n",
       "      <th>2</th>\n",
       "      <td>0.180354</td>\n",
       "      <td>r_day14</td>\n",
       "    </tr>\n",
       "    <tr>\n",
       "      <th>3</th>\n",
       "      <td>0.133060</td>\n",
       "      <td>r_day28</td>\n",
       "    </tr>\n",
       "    <tr>\n",
       "      <th>4</th>\n",
       "      <td>0.118246</td>\n",
       "      <td>r_day35</td>\n",
       "    </tr>\n",
       "    <tr>\n",
       "      <th>5</th>\n",
       "      <td>0.102668</td>\n",
       "      <td>r_day42</td>\n",
       "    </tr>\n",
       "  </tbody>\n",
       "</table>\n",
       "</div>"
      ],
      "text/plain": [
       "   return_rate     days\n",
       "0     0.425616   r_day1\n",
       "1     0.233862   r_day7\n",
       "2     0.180354  r_day14\n",
       "3     0.133060  r_day28\n",
       "4     0.118246  r_day35\n",
       "5     0.102668  r_day42"
      ]
     },
     "execution_count": 14,
     "metadata": {},
     "output_type": "execute_result"
    }
   ],
   "source": [
    "return_rate_show(df)"
   ]
  },
  {
   "cell_type": "markdown",
   "metadata": {},
   "source": [
    "### (3) Purchase conversion rate: \n",
    "Percentage (%) of new installs who made at least one purchase of our in-app subscription service"
   ]
  },
  {
   "cell_type": "code",
   "execution_count": 15,
   "metadata": {},
   "outputs": [
    {
     "name": "stdout",
     "output_type": "stream",
     "text": [
      "<class 'pandas.core.frame.DataFrame'>\n",
      "RangeIndex: 1643 entries, 0 to 1642\n",
      "Data columns (total 5 columns):\n",
      " #   Column             Non-Null Count  Dtype \n",
      "---  ------             --------------  ----- \n",
      " 0   session_timestamp  1643 non-null   object\n",
      " 1   event_offset       1643 non-null   int64 \n",
      " 2   event_name         1643 non-null   object\n",
      " 3   device_id          1643 non-null   object\n",
      " 4   event_params       1643 non-null   object\n",
      "dtypes: int64(1), object(4)\n",
      "memory usage: 64.3+ KB\n"
     ]
    }
   ],
   "source": [
    "conversion=pd.read_csv('/Users/yubinye/Downloads/DataInterviewCase/mc_data_test_2_conversions.csv')\n",
    "conversion.info()"
   ]
  },
  {
   "cell_type": "code",
   "execution_count": 16,
   "metadata": {},
   "outputs": [
    {
     "data": {
      "text/html": [
       "<div>\n",
       "<style scoped>\n",
       "    .dataframe tbody tr th:only-of-type {\n",
       "        vertical-align: middle;\n",
       "    }\n",
       "\n",
       "    .dataframe tbody tr th {\n",
       "        vertical-align: top;\n",
       "    }\n",
       "\n",
       "    .dataframe thead th {\n",
       "        text-align: right;\n",
       "    }\n",
       "</style>\n",
       "<table border=\"1\" class=\"dataframe\">\n",
       "  <thead>\n",
       "    <tr style=\"text-align: right;\">\n",
       "      <th></th>\n",
       "      <th>session_timestamp</th>\n",
       "      <th>event_offset</th>\n",
       "      <th>event_name</th>\n",
       "      <th>device_id</th>\n",
       "      <th>event_params</th>\n",
       "    </tr>\n",
       "  </thead>\n",
       "  <tbody>\n",
       "    <tr>\n",
       "      <th>0</th>\n",
       "      <td>2020-04-11 08:44:43.739</td>\n",
       "      <td>69914</td>\n",
       "      <td>Subscribe_Complete</td>\n",
       "      <td>9c4db3b0f63af92ef52bb22986b12643</td>\n",
       "      <td>{\"product\":\"com.pacer.inapp.autoyearly.trial.a...</td>\n",
       "    </tr>\n",
       "    <tr>\n",
       "      <th>1</th>\n",
       "      <td>2020-04-14 12:56:56.847</td>\n",
       "      <td>1193</td>\n",
       "      <td>Subscribe_Complete</td>\n",
       "      <td>b5540d95a38b68955d1c7b0434c29718</td>\n",
       "      <td>{\"product\":\"com.pacer.inapp.autoyearly.trial.a...</td>\n",
       "    </tr>\n",
       "    <tr>\n",
       "      <th>2</th>\n",
       "      <td>2020-04-17 12:55:32.12</td>\n",
       "      <td>3742</td>\n",
       "      <td>Subscribe_Complete</td>\n",
       "      <td>02b38adf8bcc1c404dbcf983b8c0a5aa</td>\n",
       "      <td>{\"product\":\"com.pacer.inapp.autoyearly.trial.a...</td>\n",
       "    </tr>\n",
       "    <tr>\n",
       "      <th>3</th>\n",
       "      <td>2020-04-10 16:47:44.641</td>\n",
       "      <td>241422</td>\n",
       "      <td>Subscribe_Complete</td>\n",
       "      <td>61ec44abd063a46500b277dce58627d7</td>\n",
       "      <td>{\"product\":\"com.pacer.inapp.autoyearly.trial.a...</td>\n",
       "    </tr>\n",
       "    <tr>\n",
       "      <th>4</th>\n",
       "      <td>2020-04-12 13:51:42.409</td>\n",
       "      <td>59688</td>\n",
       "      <td>Subscribe_Complete</td>\n",
       "      <td>1acf2d78a658dff82c9f90d9cdf1e1b8</td>\n",
       "      <td>{\"product\":\"com.pacer.inapp.autoyearly.trial.a...</td>\n",
       "    </tr>\n",
       "  </tbody>\n",
       "</table>\n",
       "</div>"
      ],
      "text/plain": [
       "         session_timestamp  event_offset          event_name  \\\n",
       "0  2020-04-11 08:44:43.739         69914  Subscribe_Complete   \n",
       "1  2020-04-14 12:56:56.847          1193  Subscribe_Complete   \n",
       "2   2020-04-17 12:55:32.12          3742  Subscribe_Complete   \n",
       "3  2020-04-10 16:47:44.641        241422  Subscribe_Complete   \n",
       "4  2020-04-12 13:51:42.409         59688  Subscribe_Complete   \n",
       "\n",
       "                          device_id  \\\n",
       "0  9c4db3b0f63af92ef52bb22986b12643   \n",
       "1  b5540d95a38b68955d1c7b0434c29718   \n",
       "2  02b38adf8bcc1c404dbcf983b8c0a5aa   \n",
       "3  61ec44abd063a46500b277dce58627d7   \n",
       "4  1acf2d78a658dff82c9f90d9cdf1e1b8   \n",
       "\n",
       "                                        event_params  \n",
       "0  {\"product\":\"com.pacer.inapp.autoyearly.trial.a...  \n",
       "1  {\"product\":\"com.pacer.inapp.autoyearly.trial.a...  \n",
       "2  {\"product\":\"com.pacer.inapp.autoyearly.trial.a...  \n",
       "3  {\"product\":\"com.pacer.inapp.autoyearly.trial.a...  \n",
       "4  {\"product\":\"com.pacer.inapp.autoyearly.trial.a...  "
      ]
     },
     "execution_count": 16,
     "metadata": {},
     "output_type": "execute_result"
    }
   ],
   "source": [
    "conversion.head()"
   ]
  },
  {
   "cell_type": "code",
   "execution_count": 17,
   "metadata": {},
   "outputs": [],
   "source": [
    "conversion.event_params.replace('{\"product\":\"com.pacer.inapp.autoyearly.trial.ab4\"}','autoyearly.trial.ab4',inplace=True)\n",
    "conversion.event_params.replace('{\"product\":\"com.pacer.inapp.automonthly.notrial.1\"}','automonthly.notrial.1',inplace=True)\n",
    "conversion.event_params.replace('{\"product\":\"com.pacer.inapp.nonconsumable.lifetime.2\"}','nonconsumable.lifetime.2',inplace=True)"
   ]
  },
  {
   "cell_type": "code",
   "execution_count": 18,
   "metadata": {},
   "outputs": [
    {
     "data": {
      "text/plain": [
       "autoyearly.trial.ab4        1442\n",
       "automonthly.notrial.1        185\n",
       "nonconsumable.lifetime.2      16\n",
       "Name: event_params, dtype: int64"
      ]
     },
     "execution_count": 18,
     "metadata": {},
     "output_type": "execute_result"
    }
   ],
   "source": [
    "conversion.event_params.value_counts()"
   ]
  },
  {
   "cell_type": "code",
   "execution_count": 19,
   "metadata": {},
   "outputs": [
    {
     "data": {
      "text/plain": [
       "6f56cf55572dd9d87a7ec46120bb1996    1\n",
       "fcfac865ea03fd89ea1d222fe2c8bfc3    1\n",
       "4d77eea64faf95f3e9201f85c1d1d4bf    1\n",
       "fb13a595e2c5e93665db13faa98aad2c    1\n",
       "e8ad17f84c567f97c1a7bf5cc7c44c7a    1\n",
       "                                   ..\n",
       "d10bd7742bd088a46222ca0567859ca6    1\n",
       "7900c81f27e1f81bf51dad7fbfb8c656    1\n",
       "e6bc175eaf3952bc9a5b9206377d6608    1\n",
       "d112f4dc8f8f44b283a6ecd1310cd61c    1\n",
       "0fc49d785087d52afdd96181022745f9    1\n",
       "Name: device_id, Length: 1643, dtype: int64"
      ]
     },
     "execution_count": 19,
     "metadata": {},
     "output_type": "execute_result"
    }
   ],
   "source": [
    "conversion.device_id.value_counts()"
   ]
  },
  {
   "cell_type": "markdown",
   "metadata": {},
   "source": [
    "> no user have two purchase, so the number if subscribe_compelet is the total numebr that new installs who made at least one purchase of our in-app subscription service"
   ]
  },
  {
   "cell_type": "code",
   "execution_count": 20,
   "metadata": {},
   "outputs": [
    {
     "name": "stdout",
     "output_type": "stream",
     "text": [
      "Purchase conversion rate is % 3.0652985074626864\n"
     ]
    }
   ],
   "source": [
    "print(\"Purchase conversion rate is %\",100*len(conversion)/len(cohort))"
   ]
  },
  {
   "cell_type": "markdown",
   "metadata": {},
   "source": [
    "### (4)Cohort ARPD\n",
    "\n",
    "ARPD is Average Revenue Per Download. \n",
    "\n",
    "It is the sum of all revenue divided by the total number of downloads. We look at this by cohort group.\n",
    "\n",
    "Revenue is SUBSCRIPTION REVENUE + ADVERTISING REVENUE."
   ]
  },
  {
   "cell_type": "code",
   "execution_count": 21,
   "metadata": {},
   "outputs": [],
   "source": [
    "count = conversion.event_params.value_counts()\n",
    "sub_revenue = 8.40*count[0] + 13.8*count[1] + 69.99*count[2]"
   ]
  },
  {
   "cell_type": "code",
   "execution_count": 22,
   "metadata": {},
   "outputs": [
    {
     "name": "stdout",
     "output_type": "stream",
     "text": [
      "<class 'pandas.core.frame.DataFrame'>\n",
      "RangeIndex: 1547083 entries, 0 to 1547082\n",
      "Data columns (total 5 columns):\n",
      " #   Column             Non-Null Count    Dtype \n",
      "---  ------             --------------    ----- \n",
      " 0   session_timestamp  1547083 non-null  object\n",
      " 1   event_offset       1547083 non-null  int64 \n",
      " 2   event_name         1547083 non-null  object\n",
      " 3   device_id          1547083 non-null  object\n",
      " 4   num_impressions    1547083 non-null  int64 \n",
      "dtypes: int64(2), object(3)\n",
      "memory usage: 59.0+ MB\n"
     ]
    }
   ],
   "source": [
    "ads=pd.read_csv('/Users/yubinye/Downloads/DataInterviewCase/mc_data_test_3_ads.csv')\n",
    "ads.info()"
   ]
  },
  {
   "cell_type": "code",
   "execution_count": 23,
   "metadata": {},
   "outputs": [
    {
     "data": {
      "text/html": [
       "<div>\n",
       "<style scoped>\n",
       "    .dataframe tbody tr th:only-of-type {\n",
       "        vertical-align: middle;\n",
       "    }\n",
       "\n",
       "    .dataframe tbody tr th {\n",
       "        vertical-align: top;\n",
       "    }\n",
       "\n",
       "    .dataframe thead th {\n",
       "        text-align: right;\n",
       "    }\n",
       "</style>\n",
       "<table border=\"1\" class=\"dataframe\">\n",
       "  <thead>\n",
       "    <tr style=\"text-align: right;\">\n",
       "      <th></th>\n",
       "      <th>session_timestamp</th>\n",
       "      <th>event_offset</th>\n",
       "      <th>event_name</th>\n",
       "      <th>device_id</th>\n",
       "      <th>num_impressions</th>\n",
       "    </tr>\n",
       "  </thead>\n",
       "  <tbody>\n",
       "    <tr>\n",
       "      <th>0</th>\n",
       "      <td>2020-04-10 00:15:15.246</td>\n",
       "      <td>5</td>\n",
       "      <td>Ad_Impressions</td>\n",
       "      <td>66d670bd23b3d9c70ba30c76b33f58f0</td>\n",
       "      <td>1</td>\n",
       "    </tr>\n",
       "    <tr>\n",
       "      <th>1</th>\n",
       "      <td>2020-04-10 01:15:29.924</td>\n",
       "      <td>0</td>\n",
       "      <td>Ad_Impressions</td>\n",
       "      <td>732837acbeaba6aa66c2ab1e54fe52de</td>\n",
       "      <td>1</td>\n",
       "    </tr>\n",
       "    <tr>\n",
       "      <th>2</th>\n",
       "      <td>2020-04-10 01:44:32.26</td>\n",
       "      <td>40</td>\n",
       "      <td>Ad_Impressions</td>\n",
       "      <td>534fd617423ec7d89849c5e011efff7c</td>\n",
       "      <td>1</td>\n",
       "    </tr>\n",
       "    <tr>\n",
       "      <th>3</th>\n",
       "      <td>2020-04-10 02:41:20.123</td>\n",
       "      <td>0</td>\n",
       "      <td>Ad_Impressions</td>\n",
       "      <td>55712841db43ac1c8f527b8f1d0f8abb</td>\n",
       "      <td>1</td>\n",
       "    </tr>\n",
       "    <tr>\n",
       "      <th>4</th>\n",
       "      <td>2020-04-10 03:28:50.804</td>\n",
       "      <td>5</td>\n",
       "      <td>Ad_Impressions</td>\n",
       "      <td>8351fa9d7c0fc5d7997233ef44e65677</td>\n",
       "      <td>1</td>\n",
       "    </tr>\n",
       "  </tbody>\n",
       "</table>\n",
       "</div>"
      ],
      "text/plain": [
       "         session_timestamp  event_offset      event_name  \\\n",
       "0  2020-04-10 00:15:15.246             5  Ad_Impressions   \n",
       "1  2020-04-10 01:15:29.924             0  Ad_Impressions   \n",
       "2   2020-04-10 01:44:32.26            40  Ad_Impressions   \n",
       "3  2020-04-10 02:41:20.123             0  Ad_Impressions   \n",
       "4  2020-04-10 03:28:50.804             5  Ad_Impressions   \n",
       "\n",
       "                          device_id  num_impressions  \n",
       "0  66d670bd23b3d9c70ba30c76b33f58f0                1  \n",
       "1  732837acbeaba6aa66c2ab1e54fe52de                1  \n",
       "2  534fd617423ec7d89849c5e011efff7c                1  \n",
       "3  55712841db43ac1c8f527b8f1d0f8abb                1  \n",
       "4  8351fa9d7c0fc5d7997233ef44e65677                1  "
      ]
     },
     "execution_count": 23,
     "metadata": {},
     "output_type": "execute_result"
    }
   ],
   "source": [
    "ads.head()"
   ]
  },
  {
   "cell_type": "markdown",
   "metadata": {},
   "source": [
    "To estimate advertising revenue, \n",
    "assume an eCPM of 2.50 for all ad impressions\n",
    "\n",
    "That is, 1000 impressions = $2.50 in revenue"
   ]
  },
  {
   "cell_type": "code",
   "execution_count": 24,
   "metadata": {},
   "outputs": [],
   "source": [
    "ads_revenue = len(ads)/1000*2.5"
   ]
  },
  {
   "cell_type": "code",
   "execution_count": 25,
   "metadata": {},
   "outputs": [],
   "source": [
    "revenue = ads_revenue + sub_revenue"
   ]
  },
  {
   "cell_type": "code",
   "execution_count": 26,
   "metadata": {},
   "outputs": [
    {
     "name": "stdout",
     "output_type": "stream",
     "text": [
      "0.3666669309701493\n"
     ]
    }
   ],
   "source": [
    "ARPD = revenue/len(cohort)\n",
    "print(ARPD)"
   ]
  },
  {
   "cell_type": "markdown",
   "metadata": {},
   "source": [
    "# Question 2: Analyze an A/B Test"
   ]
  },
  {
   "cell_type": "markdown",
   "metadata": {},
   "source": [
    "### (1) A/B test for ARPD"
   ]
  },
  {
   "cell_type": "code",
   "execution_count": 27,
   "metadata": {},
   "outputs": [],
   "source": [
    "abtest=pd.read_csv('/Users/yubinye/Downloads/DataInterviewCase/mc_data_test_4_abtest_logs.csv')\n",
    "ab_purchase = pd.merge(abtest,conversion,on=[\"device_id\"])"
   ]
  },
  {
   "cell_type": "code",
   "execution_count": 28,
   "metadata": {},
   "outputs": [
    {
     "name": "stdout",
     "output_type": "stream",
     "text": [
      "<class 'pandas.core.frame.DataFrame'>\n",
      "Int64Index: 1453 entries, 0 to 1452\n",
      "Data columns (total 7 columns):\n",
      " #   Column             Non-Null Count  Dtype \n",
      "---  ------             --------------  ----- \n",
      " 0   device_id          1453 non-null   object\n",
      " 1   abtest_group       1453 non-null   object\n",
      " 2   abtest_id          1453 non-null   object\n",
      " 3   session_timestamp  1453 non-null   object\n",
      " 4   event_offset       1453 non-null   int64 \n",
      " 5   event_name         1453 non-null   object\n",
      " 6   event_params       1453 non-null   object\n",
      "dtypes: int64(1), object(6)\n",
      "memory usage: 90.8+ KB\n"
     ]
    }
   ],
   "source": [
    "ab_purchase.info()"
   ]
  },
  {
   "cell_type": "code",
   "execution_count": 29,
   "metadata": {},
   "outputs": [],
   "source": [
    "A_purchase = ab_purchase.groupby(['abtest_group']).get_group(\"TestGroupA-1StepPurchaseFlow\")\n",
    "B_purchase = ab_purchase.groupby(['abtest_group']).get_group(\"TestGroupB-2StepPurchaseFlow\")"
   ]
  },
  {
   "cell_type": "code",
   "execution_count": 30,
   "metadata": {},
   "outputs": [],
   "source": [
    "#print('ARPD for group A is $',revenue(A_purchase)/len(A_purchase))\n",
    "count = A_purchase.event_params.value_counts()\n",
    "A_revenue = 8.40*count[0] + 13.8*count[1] + 69.99*count[2]\n",
    "\n",
    "count = B_purchase.event_params.value_counts()\n",
    "B_revenue = 8.40*count[0] + 13.8*count[1] + 69.99*count[2]"
   ]
  },
  {
   "cell_type": "code",
   "execution_count": 31,
   "metadata": {},
   "outputs": [
    {
     "name": "stdout",
     "output_type": "stream",
     "text": [
      "\n",
      " ARPD for group A is $ 9.114722598105548 \n",
      " ARPD for group B is $ 9.451470588235294\n"
     ]
    }
   ],
   "source": [
    "print('\\n ARPD for group A is $',A_revenue/len(A_purchase),\n",
    "     '\\n ARPD for group B is $',B_revenue/len(B_purchase))"
   ]
  },
  {
   "cell_type": "markdown",
   "metadata": {},
   "source": [
    "### (2) A/B test for return rate"
   ]
  },
  {
   "cell_type": "code",
   "execution_count": 32,
   "metadata": {},
   "outputs": [],
   "source": [
    "ab_return = pd.merge(abtest,session,on=[\"device_id\"])\n",
    "A_return = ab_return.groupby(['abtest_group']).get_group(\"TestGroupA-1StepPurchaseFlow\")\n",
    "B_return = ab_return.groupby(['abtest_group']).get_group(\"TestGroupB-2StepPurchaseFlow\")"
   ]
  },
  {
   "cell_type": "code",
   "execution_count": 33,
   "metadata": {},
   "outputs": [],
   "source": [
    "def return_rate(data):\n",
    "\n",
    "    date_user = data.groupby(['device_id','date']).first()\n",
    "    active = pd.DataFrame(list(date_user.index),columns = ['device_id','date'])\n",
    "    cohort = active.drop_duplicates(subset=['device_id'])\n",
    "    delta = [1,7,14,28,35,42]\n",
    "    for i in delta:\n",
    "        days = datetime.timedelta(i)\n",
    "        cohort['day{}'.format(i)] = cohort['date'] + days\n",
    "\n",
    "    df = pd.merge(active,cohort,on=[\"device_id\"])\n",
    "    dt = return_rate_show(df)\n",
    "    return dt"
   ]
  },
  {
   "cell_type": "code",
   "execution_count": 34,
   "metadata": {},
   "outputs": [
    {
     "data": {
      "text/html": [
       "<div>\n",
       "<style scoped>\n",
       "    .dataframe tbody tr th:only-of-type {\n",
       "        vertical-align: middle;\n",
       "    }\n",
       "\n",
       "    .dataframe tbody tr th {\n",
       "        vertical-align: top;\n",
       "    }\n",
       "\n",
       "    .dataframe thead th {\n",
       "        text-align: right;\n",
       "    }\n",
       "</style>\n",
       "<table border=\"1\" class=\"dataframe\">\n",
       "  <thead>\n",
       "    <tr style=\"text-align: right;\">\n",
       "      <th></th>\n",
       "      <th>a_group</th>\n",
       "      <th>days</th>\n",
       "      <th>b_group</th>\n",
       "    </tr>\n",
       "  </thead>\n",
       "  <tbody>\n",
       "    <tr>\n",
       "      <th>0</th>\n",
       "      <td>0.465459</td>\n",
       "      <td>r_day1</td>\n",
       "      <td>0.477607</td>\n",
       "    </tr>\n",
       "    <tr>\n",
       "      <th>1</th>\n",
       "      <td>0.258440</td>\n",
       "      <td>r_day7</td>\n",
       "      <td>0.258468</td>\n",
       "    </tr>\n",
       "    <tr>\n",
       "      <th>2</th>\n",
       "      <td>0.195780</td>\n",
       "      <td>r_day14</td>\n",
       "      <td>0.202357</td>\n",
       "    </tr>\n",
       "    <tr>\n",
       "      <th>3</th>\n",
       "      <td>0.142890</td>\n",
       "      <td>r_day28</td>\n",
       "      <td>0.149153</td>\n",
       "    </tr>\n",
       "    <tr>\n",
       "      <th>4</th>\n",
       "      <td>0.125872</td>\n",
       "      <td>r_day35</td>\n",
       "      <td>0.132320</td>\n",
       "    </tr>\n",
       "    <tr>\n",
       "      <th>5</th>\n",
       "      <td>0.110321</td>\n",
       "      <td>r_day42</td>\n",
       "      <td>0.114007</td>\n",
       "    </tr>\n",
       "  </tbody>\n",
       "</table>\n",
       "</div>"
      ],
      "text/plain": [
       "    a_group     days   b_group\n",
       "0  0.465459   r_day1  0.477607\n",
       "1  0.258440   r_day7  0.258468\n",
       "2  0.195780  r_day14  0.202357\n",
       "3  0.142890  r_day28  0.149153\n",
       "4  0.125872  r_day35  0.132320\n",
       "5  0.110321  r_day42  0.114007"
      ]
     },
     "execution_count": 34,
     "metadata": {},
     "output_type": "execute_result"
    }
   ],
   "source": [
    "ab_return = pd.merge(return_rate(A_return),return_rate(B_return),on=['days'])\n",
    "ab_return.columns=['a_group','days','b_group']\n",
    "ab_return"
   ]
  },
  {
   "cell_type": "markdown",
   "metadata": {},
   "source": [
    "# Question 3: Exploration"
   ]
  },
  {
   "cell_type": "code",
   "execution_count": 35,
   "metadata": {},
   "outputs": [],
   "source": [
    "demos=pd.read_csv('/Users/yubinye/Downloads/DataInterviewCase/mc_data_test_5_demos.csv')\n",
    "behavior=pd.read_csv('/Users/yubinye/Downloads/DataInterviewCase/mc_data_test_6_app_behavior.csv')"
   ]
  },
  {
   "cell_type": "code",
   "execution_count": 36,
   "metadata": {},
   "outputs": [],
   "source": [
    "demo_behav = pd.merge(demos,behavior,on=[\"device_id\"])\n",
    "demo_behav = demo_behav[['device_id','year_of_birth','gender','event_name']]\n",
    "\n",
    "conv_demo = pd.merge(demo_behav,conversion,on=[\"device_id\"])\n",
    "\n",
    "sess_demo = pd.merge(demo_behav,session,on=[\"device_id\"])"
   ]
  },
  {
   "cell_type": "markdown",
   "metadata": {},
   "source": [
    "## revenue"
   ]
  },
  {
   "cell_type": "code",
   "execution_count": 37,
   "metadata": {},
   "outputs": [],
   "source": [
    "def count_conv_demo(data,y):\n",
    "    conv_ = data.groupby(['event_params',y]).count()\n",
    "    con_demo = pd.DataFrame(list(conv_.index),columns = ['purchase',y])\n",
    "    con_demo['count'] = list(conv_.device_id)\n",
    "    return con_demo"
   ]
  },
  {
   "cell_type": "code",
   "execution_count": 38,
   "metadata": {},
   "outputs": [
    {
     "data": {
      "text/html": [
       "<div>\n",
       "<style scoped>\n",
       "    .dataframe tbody tr th:only-of-type {\n",
       "        vertical-align: middle;\n",
       "    }\n",
       "\n",
       "    .dataframe tbody tr th {\n",
       "        vertical-align: top;\n",
       "    }\n",
       "\n",
       "    .dataframe thead th {\n",
       "        text-align: right;\n",
       "    }\n",
       "</style>\n",
       "<table border=\"1\" class=\"dataframe\">\n",
       "  <thead>\n",
       "    <tr style=\"text-align: right;\">\n",
       "      <th></th>\n",
       "      <th>purchase</th>\n",
       "      <th>gender</th>\n",
       "      <th>count</th>\n",
       "    </tr>\n",
       "  </thead>\n",
       "  <tbody>\n",
       "    <tr>\n",
       "      <th>0</th>\n",
       "      <td>automonthly.notrial.1</td>\n",
       "      <td>female</td>\n",
       "      <td>998</td>\n",
       "    </tr>\n",
       "    <tr>\n",
       "      <th>1</th>\n",
       "      <td>automonthly.notrial.1</td>\n",
       "      <td>male</td>\n",
       "      <td>616</td>\n",
       "    </tr>\n",
       "    <tr>\n",
       "      <th>2</th>\n",
       "      <td>autoyearly.trial.ab4</td>\n",
       "      <td>female</td>\n",
       "      <td>5112</td>\n",
       "    </tr>\n",
       "    <tr>\n",
       "      <th>3</th>\n",
       "      <td>autoyearly.trial.ab4</td>\n",
       "      <td>male</td>\n",
       "      <td>3632</td>\n",
       "    </tr>\n",
       "    <tr>\n",
       "      <th>4</th>\n",
       "      <td>nonconsumable.lifetime.2</td>\n",
       "      <td>female</td>\n",
       "      <td>23</td>\n",
       "    </tr>\n",
       "    <tr>\n",
       "      <th>5</th>\n",
       "      <td>nonconsumable.lifetime.2</td>\n",
       "      <td>male</td>\n",
       "      <td>24</td>\n",
       "    </tr>\n",
       "  </tbody>\n",
       "</table>\n",
       "</div>"
      ],
      "text/plain": [
       "                   purchase  gender  count\n",
       "0     automonthly.notrial.1  female    998\n",
       "1     automonthly.notrial.1    male    616\n",
       "2      autoyearly.trial.ab4  female   5112\n",
       "3      autoyearly.trial.ab4    male   3632\n",
       "4  nonconsumable.lifetime.2  female     23\n",
       "5  nonconsumable.lifetime.2    male     24"
      ]
     },
     "execution_count": 38,
     "metadata": {},
     "output_type": "execute_result"
    }
   ],
   "source": [
    "count_conv_demo(conv_demo,'gender')"
   ]
  },
  {
   "cell_type": "markdown",
   "metadata": {},
   "source": [
    "> female users are more likely to purchase montly trail\n",
    "\n",
    "> male users are more likely to purchase year trail"
   ]
  },
  {
   "cell_type": "code",
   "execution_count": 41,
   "metadata": {},
   "outputs": [
    {
     "data": {
      "text/html": [
       "<div>\n",
       "<style scoped>\n",
       "    .dataframe tbody tr th:only-of-type {\n",
       "        vertical-align: middle;\n",
       "    }\n",
       "\n",
       "    .dataframe tbody tr th {\n",
       "        vertical-align: top;\n",
       "    }\n",
       "\n",
       "    .dataframe thead th {\n",
       "        text-align: right;\n",
       "    }\n",
       "</style>\n",
       "<table border=\"1\" class=\"dataframe\">\n",
       "  <thead>\n",
       "    <tr style=\"text-align: right;\">\n",
       "      <th></th>\n",
       "      <th>purchase</th>\n",
       "      <th>event_name_x</th>\n",
       "      <th>count</th>\n",
       "    </tr>\n",
       "  </thead>\n",
       "  <tbody>\n",
       "    <tr>\n",
       "      <th>0</th>\n",
       "      <td>automonthly.notrial.1</td>\n",
       "      <td>Health-Completed-GuidedWorkout</td>\n",
       "      <td>422</td>\n",
       "    </tr>\n",
       "    <tr>\n",
       "      <th>1</th>\n",
       "      <td>automonthly.notrial.1</td>\n",
       "      <td>Health-Input-BloodPressure</td>\n",
       "      <td>12</td>\n",
       "    </tr>\n",
       "    <tr>\n",
       "      <th>2</th>\n",
       "      <td>automonthly.notrial.1</td>\n",
       "      <td>Health-Input-BodyWeight</td>\n",
       "      <td>833</td>\n",
       "    </tr>\n",
       "    <tr>\n",
       "      <th>3</th>\n",
       "      <td>automonthly.notrial.1</td>\n",
       "      <td>Health-Tracked-OutdoorExercise</td>\n",
       "      <td>694</td>\n",
       "    </tr>\n",
       "    <tr>\n",
       "      <th>4</th>\n",
       "      <td>automonthly.notrial.1</td>\n",
       "      <td>Social-Checkin</td>\n",
       "      <td>53</td>\n",
       "    </tr>\n",
       "    <tr>\n",
       "      <th>5</th>\n",
       "      <td>automonthly.notrial.1</td>\n",
       "      <td>Social-Competition-Joined</td>\n",
       "      <td>52</td>\n",
       "    </tr>\n",
       "    <tr>\n",
       "      <th>6</th>\n",
       "      <td>automonthly.notrial.1</td>\n",
       "      <td>Social-Group-Joined</td>\n",
       "      <td>34</td>\n",
       "    </tr>\n",
       "    <tr>\n",
       "      <th>7</th>\n",
       "      <td>autoyearly.trial.ab4</td>\n",
       "      <td>Health-Completed-GuidedWorkout</td>\n",
       "      <td>935</td>\n",
       "    </tr>\n",
       "    <tr>\n",
       "      <th>8</th>\n",
       "      <td>autoyearly.trial.ab4</td>\n",
       "      <td>Health-Input-BloodPressure</td>\n",
       "      <td>317</td>\n",
       "    </tr>\n",
       "    <tr>\n",
       "      <th>9</th>\n",
       "      <td>autoyearly.trial.ab4</td>\n",
       "      <td>Health-Input-BodyWeight</td>\n",
       "      <td>5036</td>\n",
       "    </tr>\n",
       "    <tr>\n",
       "      <th>10</th>\n",
       "      <td>autoyearly.trial.ab4</td>\n",
       "      <td>Health-Tracked-OutdoorExercise</td>\n",
       "      <td>3956</td>\n",
       "    </tr>\n",
       "    <tr>\n",
       "      <th>11</th>\n",
       "      <td>autoyearly.trial.ab4</td>\n",
       "      <td>Social-Checkin</td>\n",
       "      <td>867</td>\n",
       "    </tr>\n",
       "    <tr>\n",
       "      <th>12</th>\n",
       "      <td>autoyearly.trial.ab4</td>\n",
       "      <td>Social-Competition-Joined</td>\n",
       "      <td>496</td>\n",
       "    </tr>\n",
       "    <tr>\n",
       "      <th>13</th>\n",
       "      <td>autoyearly.trial.ab4</td>\n",
       "      <td>Social-Friends-Like</td>\n",
       "      <td>34</td>\n",
       "    </tr>\n",
       "    <tr>\n",
       "      <th>14</th>\n",
       "      <td>autoyearly.trial.ab4</td>\n",
       "      <td>Social-Group-Joined</td>\n",
       "      <td>307</td>\n",
       "    </tr>\n",
       "    <tr>\n",
       "      <th>15</th>\n",
       "      <td>nonconsumable.lifetime.2</td>\n",
       "      <td>Health-Input-BodyWeight</td>\n",
       "      <td>73</td>\n",
       "    </tr>\n",
       "    <tr>\n",
       "      <th>16</th>\n",
       "      <td>nonconsumable.lifetime.2</td>\n",
       "      <td>Health-Tracked-OutdoorExercise</td>\n",
       "      <td>30</td>\n",
       "    </tr>\n",
       "    <tr>\n",
       "      <th>17</th>\n",
       "      <td>nonconsumable.lifetime.2</td>\n",
       "      <td>Social-Checkin</td>\n",
       "      <td>604</td>\n",
       "    </tr>\n",
       "    <tr>\n",
       "      <th>18</th>\n",
       "      <td>nonconsumable.lifetime.2</td>\n",
       "      <td>Social-Competition-Joined</td>\n",
       "      <td>18</td>\n",
       "    </tr>\n",
       "    <tr>\n",
       "      <th>19</th>\n",
       "      <td>nonconsumable.lifetime.2</td>\n",
       "      <td>Social-Group-Joined</td>\n",
       "      <td>3</td>\n",
       "    </tr>\n",
       "  </tbody>\n",
       "</table>\n",
       "</div>"
      ],
      "text/plain": [
       "                    purchase                    event_name_x  count\n",
       "0      automonthly.notrial.1  Health-Completed-GuidedWorkout    422\n",
       "1      automonthly.notrial.1      Health-Input-BloodPressure     12\n",
       "2      automonthly.notrial.1         Health-Input-BodyWeight    833\n",
       "3      automonthly.notrial.1  Health-Tracked-OutdoorExercise    694\n",
       "4      automonthly.notrial.1                  Social-Checkin     53\n",
       "5      automonthly.notrial.1       Social-Competition-Joined     52\n",
       "6      automonthly.notrial.1             Social-Group-Joined     34\n",
       "7       autoyearly.trial.ab4  Health-Completed-GuidedWorkout    935\n",
       "8       autoyearly.trial.ab4      Health-Input-BloodPressure    317\n",
       "9       autoyearly.trial.ab4         Health-Input-BodyWeight   5036\n",
       "10      autoyearly.trial.ab4  Health-Tracked-OutdoorExercise   3956\n",
       "11      autoyearly.trial.ab4                  Social-Checkin    867\n",
       "12      autoyearly.trial.ab4       Social-Competition-Joined    496\n",
       "13      autoyearly.trial.ab4             Social-Friends-Like     34\n",
       "14      autoyearly.trial.ab4             Social-Group-Joined    307\n",
       "15  nonconsumable.lifetime.2         Health-Input-BodyWeight     73\n",
       "16  nonconsumable.lifetime.2  Health-Tracked-OutdoorExercise     30\n",
       "17  nonconsumable.lifetime.2                  Social-Checkin    604\n",
       "18  nonconsumable.lifetime.2       Social-Competition-Joined     18\n",
       "19  nonconsumable.lifetime.2             Social-Group-Joined      3"
      ]
     },
     "execution_count": 41,
     "metadata": {},
     "output_type": "execute_result"
    }
   ],
   "source": [
    "pec = count_conv_demo(conv_demo,'event_name_x')\n",
    "pec "
   ]
  },
  {
   "cell_type": "code",
   "execution_count": 42,
   "metadata": {},
   "outputs": [
    {
     "data": {
      "text/plain": [
       "<matplotlib.axes._subplots.AxesSubplot at 0x7feefce86370>"
      ]
     },
     "execution_count": 42,
     "metadata": {},
     "output_type": "execute_result"
    },
    {
     "data": {
      "image/png": "[encoded data removed]",
      "text/plain": [
       "<Figure size 432x288 with 1 Axes>"
      ]
     },
     "metadata": {
      "needs_background": "light"
     },
     "output_type": "display_data"
    }
   ],
   "source": [
    "pec.plot.bar(stacked=True)"
   ]
  },
  {
   "cell_type": "markdown",
   "metadata": {},
   "source": [
    ">  users who purchase `yearly` trial are more likely have the following behavior:\n",
    "\n",
    "- Health-Input-BodyWeight \n",
    "- Health-Tracked-OutdoorExercise\n",
    "- Health-Completed-GuidedWorkout"
   ]
  },
  {
   "cell_type": "code",
   "execution_count": 43,
   "metadata": {},
   "outputs": [],
   "source": [
    "def conv_year(data,y):\n",
    "    conv_gender_birth = conv_demo.groupby(['event_params',y]).mean()\n",
    "    con_demo2 = pd.DataFrame(list(conv_gender_birth.index),columns = ['purchase',y])\n",
    "    con_demo2['year_of_birth'] = list(round(conv_gender_birth.year_of_birth))\n",
    "    return con_demo2"
   ]
  },
  {
   "cell_type": "code",
   "execution_count": 44,
   "metadata": {},
   "outputs": [
    {
     "data": {
      "text/html": [
       "<div>\n",
       "<style scoped>\n",
       "    .dataframe tbody tr th:only-of-type {\n",
       "        vertical-align: middle;\n",
       "    }\n",
       "\n",
       "    .dataframe tbody tr th {\n",
       "        vertical-align: top;\n",
       "    }\n",
       "\n",
       "    .dataframe thead th {\n",
       "        text-align: right;\n",
       "    }\n",
       "</style>\n",
       "<table border=\"1\" class=\"dataframe\">\n",
       "  <thead>\n",
       "    <tr style=\"text-align: right;\">\n",
       "      <th></th>\n",
       "      <th>purchase</th>\n",
       "      <th>gender</th>\n",
       "      <th>year_of_birth</th>\n",
       "    </tr>\n",
       "  </thead>\n",
       "  <tbody>\n",
       "    <tr>\n",
       "      <th>0</th>\n",
       "      <td>automonthly.notrial.1</td>\n",
       "      <td>female</td>\n",
       "      <td>1989.0</td>\n",
       "    </tr>\n",
       "    <tr>\n",
       "      <th>1</th>\n",
       "      <td>automonthly.notrial.1</td>\n",
       "      <td>male</td>\n",
       "      <td>1985.0</td>\n",
       "    </tr>\n",
       "    <tr>\n",
       "      <th>2</th>\n",
       "      <td>autoyearly.trial.ab4</td>\n",
       "      <td>female</td>\n",
       "      <td>1982.0</td>\n",
       "    </tr>\n",
       "    <tr>\n",
       "      <th>3</th>\n",
       "      <td>autoyearly.trial.ab4</td>\n",
       "      <td>male</td>\n",
       "      <td>1978.0</td>\n",
       "    </tr>\n",
       "    <tr>\n",
       "      <th>4</th>\n",
       "      <td>nonconsumable.lifetime.2</td>\n",
       "      <td>female</td>\n",
       "      <td>1969.0</td>\n",
       "    </tr>\n",
       "    <tr>\n",
       "      <th>5</th>\n",
       "      <td>nonconsumable.lifetime.2</td>\n",
       "      <td>male</td>\n",
       "      <td>1987.0</td>\n",
       "    </tr>\n",
       "  </tbody>\n",
       "</table>\n",
       "</div>"
      ],
      "text/plain": [
       "                   purchase  gender  year_of_birth\n",
       "0     automonthly.notrial.1  female         1989.0\n",
       "1     automonthly.notrial.1    male         1985.0\n",
       "2      autoyearly.trial.ab4  female         1982.0\n",
       "3      autoyearly.trial.ab4    male         1978.0\n",
       "4  nonconsumable.lifetime.2  female         1969.0\n",
       "5  nonconsumable.lifetime.2    male         1987.0"
      ]
     },
     "execution_count": 44,
     "metadata": {},
     "output_type": "execute_result"
    }
   ],
   "source": [
    "conv_year(conv_demo,'gender')"
   ]
  },
  {
   "cell_type": "markdown",
   "metadata": {},
   "source": [
    "> elder female prefer live time purchase\n",
    "\n",
    "> younger female prefer monthly purchase\n",
    "\n",
    "> elder male prefer yearly purchase\n",
    "\n",
    "> younger male prefer both monthly and life time purchase"
   ]
  },
  {
   "cell_type": "markdown",
   "metadata": {},
   "source": [
    "## return rate"
   ]
  },
  {
   "cell_type": "code",
   "execution_count": 45,
   "metadata": {},
   "outputs": [],
   "source": [
    "female = sess_demo.groupby(['gender']).get_group(\"female\")\n",
    "male = sess_demo.groupby(['gender']).get_group(\"male\")"
   ]
  },
  {
   "cell_type": "code",
   "execution_count": 46,
   "metadata": {},
   "outputs": [],
   "source": [
    "dfs_gd = [return_rate(female),return_rate(male)]"
   ]
  },
  {
   "cell_type": "code",
   "execution_count": 47,
   "metadata": {},
   "outputs": [
    {
     "data": {
      "text/html": [
       "<div>\n",
       "<style scoped>\n",
       "    .dataframe tbody tr th:only-of-type {\n",
       "        vertical-align: middle;\n",
       "    }\n",
       "\n",
       "    .dataframe tbody tr th {\n",
       "        vertical-align: top;\n",
       "    }\n",
       "\n",
       "    .dataframe thead th {\n",
       "        text-align: right;\n",
       "    }\n",
       "</style>\n",
       "<table border=\"1\" class=\"dataframe\">\n",
       "  <thead>\n",
       "    <tr style=\"text-align: right;\">\n",
       "      <th></th>\n",
       "      <th>female</th>\n",
       "      <th>male</th>\n",
       "    </tr>\n",
       "  </thead>\n",
       "  <tbody>\n",
       "    <tr>\n",
       "      <th>r_day1</th>\n",
       "      <td>0.490066</td>\n",
       "      <td>0.482743</td>\n",
       "    </tr>\n",
       "    <tr>\n",
       "      <th>r_day7</th>\n",
       "      <td>0.271466</td>\n",
       "      <td>0.273382</td>\n",
       "    </tr>\n",
       "    <tr>\n",
       "      <th>r_day14</th>\n",
       "      <td>0.209165</td>\n",
       "      <td>0.212774</td>\n",
       "    </tr>\n",
       "    <tr>\n",
       "      <th>r_day28</th>\n",
       "      <td>0.157341</td>\n",
       "      <td>0.158538</td>\n",
       "    </tr>\n",
       "    <tr>\n",
       "      <th>r_day35</th>\n",
       "      <td>0.137385</td>\n",
       "      <td>0.142608</td>\n",
       "    </tr>\n",
       "    <tr>\n",
       "      <th>r_day42</th>\n",
       "      <td>0.120864</td>\n",
       "      <td>0.120837</td>\n",
       "    </tr>\n",
       "  </tbody>\n",
       "</table>\n",
       "</div>"
      ],
      "text/plain": [
       "           female      male\n",
       "r_day1   0.490066  0.482743\n",
       "r_day7   0.271466  0.273382\n",
       "r_day14  0.209165  0.212774\n",
       "r_day28  0.157341  0.158538\n",
       "r_day35  0.137385  0.142608\n",
       "r_day42  0.120864  0.120837"
      ]
     },
     "execution_count": 47,
     "metadata": {},
     "output_type": "execute_result"
    }
   ],
   "source": [
    "gender_return = pd.concat(dfs_gd,axis=1)\n",
    "gender_return.index = ['r_day1','r_day7','r_day14','r_day28','r_day35','r_day42']\n",
    "gender_return.drop(['days'],axis=1,inplace=True)\n",
    "gender_return.columns = ['female','male']\n",
    "gender_return"
   ]
  },
  {
   "cell_type": "markdown",
   "metadata": {},
   "source": [
    "> there isn\\`t much difference between female\\`s return rate and male`s"
   ]
  },
  {
   "cell_type": "code",
   "execution_count": 48,
   "metadata": {},
   "outputs": [],
   "source": [
    "sub1 = sess_demo.groupby(['event_name_x']).get_group(\"Health-Completed-GuidedWorkout\")\n",
    "sub2= sess_demo.groupby(['event_name_x']).get_group(\"Health-Input-BloodPressure\")\n",
    "sub3 = sess_demo.groupby(['event_name_x']).get_group(\"Health-Input-BodyWeight\")\n",
    "\n",
    "sub4 = sess_demo.groupby(['event_name_x']).get_group(\"Health-Tracked-OutdoorExercise\")\n",
    "sub5 = sess_demo.groupby(['event_name_x']).get_group(\"Social-Checkin\")\n",
    "sub6 = sess_demo.groupby(['event_name_x']).get_group(\"Social-Competition-Joined\")\n",
    "\n",
    "sub7 = sess_demo.groupby(['event_name_x']).get_group(\"Social-Friends-Like\")\n",
    "sub8 = sess_demo.groupby(['event_name_x']).get_group(\"Social-Group-Joined\")"
   ]
  },
  {
   "cell_type": "code",
   "execution_count": 49,
   "metadata": {},
   "outputs": [],
   "source": [
    "dfs_bh = [return_rate(sub1), return_rate(sub2), return_rate(sub3), return_rate(sub4),\n",
    "       return_rate(sub5), return_rate(sub6),return_rate(sub7), return_rate(sub8)]"
   ]
  },
  {
   "cell_type": "code",
   "execution_count": 50,
   "metadata": {},
   "outputs": [
    {
     "data": {
      "text/html": [
       "<div>\n",
       "<style scoped>\n",
       "    .dataframe tbody tr th:only-of-type {\n",
       "        vertical-align: middle;\n",
       "    }\n",
       "\n",
       "    .dataframe tbody tr th {\n",
       "        vertical-align: top;\n",
       "    }\n",
       "\n",
       "    .dataframe thead th {\n",
       "        text-align: right;\n",
       "    }\n",
       "</style>\n",
       "<table border=\"1\" class=\"dataframe\">\n",
       "  <thead>\n",
       "    <tr style=\"text-align: right;\">\n",
       "      <th></th>\n",
       "      <th>Health-Input-BodyWeight</th>\n",
       "      <th>Health-Input-BloodPressure</th>\n",
       "      <th>Health-Tracked-OutdoorExercise</th>\n",
       "      <th>Health-Completed-GuidedWorkout</th>\n",
       "      <th>Social-Group-Joined</th>\n",
       "      <th>Social-Checkin</th>\n",
       "      <th>Social-Competition-Joined</th>\n",
       "      <th>Social-Friends-Like</th>\n",
       "    </tr>\n",
       "  </thead>\n",
       "  <tbody>\n",
       "    <tr>\n",
       "      <th>r_day1</th>\n",
       "      <td>0.747027</td>\n",
       "      <td>0.732887</td>\n",
       "      <td>0.466682</td>\n",
       "      <td>0.631908</td>\n",
       "      <td>0.820598</td>\n",
       "      <td>0.774011</td>\n",
       "      <td>0.908046</td>\n",
       "      <td>0.761538</td>\n",
       "    </tr>\n",
       "    <tr>\n",
       "      <th>r_day7</th>\n",
       "      <td>0.505946</td>\n",
       "      <td>0.506696</td>\n",
       "      <td>0.257221</td>\n",
       "      <td>0.405257</td>\n",
       "      <td>0.601329</td>\n",
       "      <td>0.581293</td>\n",
       "      <td>0.724138</td>\n",
       "      <td>0.605983</td>\n",
       "    </tr>\n",
       "    <tr>\n",
       "      <th>r_day14</th>\n",
       "      <td>0.416216</td>\n",
       "      <td>0.413690</td>\n",
       "      <td>0.199574</td>\n",
       "      <td>0.328127</td>\n",
       "      <td>0.551495</td>\n",
       "      <td>0.495920</td>\n",
       "      <td>0.551724</td>\n",
       "      <td>0.525641</td>\n",
       "    </tr>\n",
       "    <tr>\n",
       "      <th>r_day28</th>\n",
       "      <td>0.303784</td>\n",
       "      <td>0.322917</td>\n",
       "      <td>0.148220</td>\n",
       "      <td>0.247980</td>\n",
       "      <td>0.398671</td>\n",
       "      <td>0.396108</td>\n",
       "      <td>0.482759</td>\n",
       "      <td>0.384615</td>\n",
       "    </tr>\n",
       "    <tr>\n",
       "      <th>r_day35</th>\n",
       "      <td>0.280000</td>\n",
       "      <td>0.307292</td>\n",
       "      <td>0.131543</td>\n",
       "      <td>0.219326</td>\n",
       "      <td>0.388704</td>\n",
       "      <td>0.367859</td>\n",
       "      <td>0.356322</td>\n",
       "      <td>0.339316</td>\n",
       "    </tr>\n",
       "    <tr>\n",
       "      <th>r_day42</th>\n",
       "      <td>0.242162</td>\n",
       "      <td>0.258929</td>\n",
       "      <td>0.115033</td>\n",
       "      <td>0.187332</td>\n",
       "      <td>0.345515</td>\n",
       "      <td>0.334589</td>\n",
       "      <td>0.379310</td>\n",
       "      <td>0.304274</td>\n",
       "    </tr>\n",
       "  </tbody>\n",
       "</table>\n",
       "</div>"
      ],
      "text/plain": [
       "         Health-Input-BodyWeight  Health-Input-BloodPressure  \\\n",
       "r_day1                  0.747027                    0.732887   \n",
       "r_day7                  0.505946                    0.506696   \n",
       "r_day14                 0.416216                    0.413690   \n",
       "r_day28                 0.303784                    0.322917   \n",
       "r_day35                 0.280000                    0.307292   \n",
       "r_day42                 0.242162                    0.258929   \n",
       "\n",
       "         Health-Tracked-OutdoorExercise  Health-Completed-GuidedWorkout  \\\n",
       "r_day1                         0.466682                        0.631908   \n",
       "r_day7                         0.257221                        0.405257   \n",
       "r_day14                        0.199574                        0.328127   \n",
       "r_day28                        0.148220                        0.247980   \n",
       "r_day35                        0.131543                        0.219326   \n",
       "r_day42                        0.115033                        0.187332   \n",
       "\n",
       "         Social-Group-Joined  Social-Checkin  Social-Competition-Joined  \\\n",
       "r_day1              0.820598        0.774011                   0.908046   \n",
       "r_day7              0.601329        0.581293                   0.724138   \n",
       "r_day14             0.551495        0.495920                   0.551724   \n",
       "r_day28             0.398671        0.396108                   0.482759   \n",
       "r_day35             0.388704        0.367859                   0.356322   \n",
       "r_day42             0.345515        0.334589                   0.379310   \n",
       "\n",
       "         Social-Friends-Like  \n",
       "r_day1              0.761538  \n",
       "r_day7              0.605983  \n",
       "r_day14             0.525641  \n",
       "r_day28             0.384615  \n",
       "r_day35             0.339316  \n",
       "r_day42             0.304274  "
      ]
     },
     "execution_count": 50,
     "metadata": {},
     "output_type": "execute_result"
    }
   ],
   "source": [
    "bh_return = pd.concat(dfs_bh,axis = 1)\n",
    "bh_return.index = ['r_day1','r_day7','r_day14','r_day28','r_day35','r_day42']\n",
    "bh_return.drop(['days'],axis=1,inplace=True)\n",
    "bh_return.columns = pd.unique(behavior.event_name)\n",
    "bh_return"
   ]
  },
  {
   "cell_type": "markdown",
   "metadata": {},
   "source": [
    "> social group joined and social competition joint may largely contribute to a relatively high return rate\n",
    "\n",
    "> health tracked outdoor excericise has small contribution on return rate"
   ]
  }
 ],
 "metadata": {
  "kernelspec": {
   "display_name": "Python 3",
   "language": "python",
   "name": "python3"
  },
  "language_info": {
   "codemirror_mode": {
    "name": "ipython",
    "version": 3
   },
   "file_extension": ".py",
   "mimetype": "text/x-python",
   "name": "python",
   "nbconvert_exporter": "python",
   "pygments_lexer": "ipython3",
   "version": "3.8.3"
  }
 },
 "nbformat": 4,
 "nbformat_minor": 4
}
